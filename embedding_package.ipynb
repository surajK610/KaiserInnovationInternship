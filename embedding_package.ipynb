{
 "cells": [
  {
   "cell_type": "code",
   "execution_count": 19,
   "metadata": {},
   "outputs": [
    {
     "name": "stderr",
     "output_type": "stream",
     "text": [
      "Using TensorFlow backend.\n"
     ]
    }
   ],
   "source": [
    "\n",
    "import seaborn as sns\n",
    "import numpy as np\n",
    "import matplotlib.pyplot as plt\n",
    "import pandas as pd\n",
    "import tensorflow as tf\n",
    "from tensorflow.contrib.layers import fully_connected\n",
    "from collections import OrderedDict\n",
    "from itertools import combinations\n",
    "\n",
    "import tensorflow as tf\n",
    "from tensorflow import keras\n",
    "from tensorflow.python.keras.callbacks import TensorBoard\n",
    "from keras.layers import Input, Dense, LSTM, Dropout\n",
    "from keras.models import Model\n",
    "\n",
    "import keras.backend as K\n",
    "from keras.utils import to_categorical\n"
   ]
  },
  {
   "cell_type": "code",
   "execution_count": 34,
   "metadata": {},
   "outputs": [],
   "source": [
    "'''\n",
    "INPUT\n",
    "- diagnoses: a dataframe containing patient diagnoses data\n",
    "- dimmensions: number of dimmensions to return\n",
    "- unique_patient_identifier: name of the patient identifier in the dataframe\n",
    "- num_cases: minimum number of cases\n",
    "- diagnoses_group: name of the diagnoses identifier in the dataframe\n",
    "\n",
    "\n",
    "OUTPUT:\n",
    "- embeddings object containing the learnt embeddings for the diagnoses data\n",
    "'''\n",
    "\n",
    "def get_embeddings(diagnoses, dimmensions=32, num_cases=500 ,unique_patient_identifier='P_ID', diagnoses_group='DX_GROUP'):\n",
    "    count = diagnoses.DX_ID.value_counts()\n",
    "    count = count[count > num_cases]\n",
    "    \n",
    "    diagnoses = diagnoses[diagnoses.DX_ID.isin(count[count > num_cases].index)]\n",
    "    \n",
    "    y = pd.DataFrame(diagnoses.sort_values('DX_DATE').groupby(['P_ID'])['DX_ID'].apply(list))\n",
    "    y = y.apply(lambda x: list(OrderedDict.fromkeys(x['DX_ID'])), axis=1)\n",
    "    \n",
    "    y = pd.DataFrame(y)\n",
    "    y.rename(columns={y.columns[0]: \"DX_ID\" }, inplace = True)\n",
    "    \n",
    "    dic = dict.fromkeys(diagnoses['DX_ID'], 0)\n",
    "    \n",
    "    j = 0\n",
    "    for i in dic:\n",
    "        dic[i] = j\n",
    "        j += 1\n",
    "    \n",
    "    #get all perumtations of unique dx's        \n",
    "    y['PAIRS'] = y.apply(lambda x: list(combinations([dic[a] for a in x['DX_ID']], 2)) , axis=1)\n",
    "    y = y.reset_index()\n",
    "    \n",
    "    flat_list = [item for sublist in y.PAIRS.tolist() for item in sublist]\n",
    "    \n",
    "    print('Pairs Succesfully Created')\n",
    "    \n",
    "    x,y = zip(*flat_list)\n",
    "    \n",
    "    neural_network(x,y)\n",
    "    \n",
    "def neural_network(x,y):\n",
    "    hot_x = to_categorical(x)\n",
    "    hot_y = to_categorical(y)\n",
    "    \n",
    "    input_dat = Input(shape=(756,))\n",
    "    encoded = Dense(280, activation='relu')(input_dat)\n",
    "    encoded = Dense(36)(encoded)\n",
    "    decoded = Dense(756, activation='softmax')(encoded)\n",
    "    embeddings = Model(input_dat, decoded)\n",
    "\n",
    "    encoder = Model(input_dat, encoded)\n",
    "\n",
    "\n",
    "    embeddings.compile(optimizer='adam', loss='categorical_crossentropy')\n",
    "    embeddings.summary()\n",
    "    \n",
    "    embeddings.fit(hot_x, hot_y,\n",
    "                epochs=50,\n",
    "                batch_size=512,\n",
    "                shuffle=True,\n",
    "                validation_data=(hot_x, hot_y))\n",
    "    \n",
    "    labels = np.identity(80)\n",
    "    encoded = encoder.predict(labels)\n",
    "\n",
    "    \n",
    "    \n",
    "\n",
    "def getPairs(x):\n",
    "    return \n",
    "\n",
    "\n",
    "class DX_Embeddings:\n",
    "    def __init__(self):\n",
    "        pass\n",
    "    \n",
    "    # pass in the diagnoses name and this returns an array with the embedding \n",
    "    def get_embedding(self, dx_name):\n",
    "        pass\n",
    "\n",
    "        \n"
   ]
  },
  {
   "cell_type": "code",
   "execution_count": 35,
   "metadata": {},
   "outputs": [],
   "source": [
    "diagnoses = pd.read_csv('dx_100k.tsv', delimiter='\\t')\n"
   ]
  },
  {
   "cell_type": "code",
   "execution_count": 32,
   "metadata": {},
   "outputs": [
    {
     "name": "stdout",
     "output_type": "stream",
     "text": [
      "Pairs Succesfully Created\n",
      "{12122523: 0, 12015529: 1, 12125461: 2, 12014097: 3, 12013950: 4, 12019143: 5, 12019113: 6, 12018250: 7, 12153114: 8, 12152895: 9, 12146714: 10, 12134697: 11, 12018877: 12, 12019194: 13, 12153017: 14, 12019572: 15, 12020951: 16, 12127983: 17, 121209117: 18, 12015512: 19, 12138849: 20, 12020609: 21, 12020765: 22, 12154294: 23, 12142874: 24, 12021326: 25, 12124569: 26, 12014928: 27, 12019875: 28, 12019874: 29, 12133896: 30, 12141609: 31, 12019633: 32, 12014948: 33, 12019625: 34, 12015312: 35, 12018614: 36, 12015082: 37, 12121782: 38, 12020776: 39, 12123235: 40, 12015156: 41, 12124934: 42, 12137123: 43, 12018760: 44, 12020738: 45, 1201227: 46, 12014323: 47, 12020816: 48, 12147419: 49, 12124109: 50, 12020621: 51, 12135089: 52, 12014941: 53, 12134159: 54, 12123306: 55, 12123042: 56, 12137202: 57, 12123540: 58, 12014288: 59, 12125077: 60, 12134643: 61, 12147001: 62, 12129108: 63, 12134848: 64, 12014940: 65, 12135675: 66, 121128525: 67, 12124478: 68, 12015508: 69, 12156378: 70, 12154293: 71, 12020156: 72, 12014886: 73, 12018629: 74, 12142497: 75, 12020610: 76, 12132922: 77, 12015115: 78, 12138897: 79, 12015251: 80, 12139368: 81, 121129783: 82, 12015145: 83, 12153470: 84, 12020693: 85, 12127993: 86, 12152973: 87, 121126740: 88, 12021324: 89, 12145959: 90, 12134088: 91, 121129090: 92, 12020846: 93, 12146065: 94, 12019136: 95, 12124675: 96, 12134168: 97, 12125836: 98, 12139778: 99, 12125826: 100, 12148083: 101, 12125824: 102, 12144991: 103, 12021364: 104, 121126280: 105, 12134662: 106, 12146022: 107, 12127197: 108, 12142496: 109, 12123650: 110, 12145778: 111, 12020981: 112, 12129128: 113, 12124144: 114, 12019601: 115, 12124940: 116, 12020608: 117, 121129382: 118, 12155785: 119, 12125779: 120, 12020745: 121, 12020798: 122, 12020762: 123, 12122717: 124, 12140029: 125, 12021347: 126, 12124397: 127, 12144724: 128, 121129088: 129, 12021341: 130, 121140180: 131, 12015864: 132, 12141610: 133, 12457783: 134, 12123024: 135, 12135413: 136, 12125071: 137, 12015541: 138, 12153477: 139, 12018669: 140, 12020905: 141, 12133486: 142, 12013972: 143, 12127288: 144, 121140323: 145, 12020647: 146, 12018321: 147, 12014879: 148, 12020641: 149, 12140751: 150, 12015464: 151, 12020769: 152, 12125639: 153, 12141152: 154, 12125818: 155, 12124918: 156, 12133348: 157, 12019961: 158, 1203932: 159, 12020648: 160, 12131492: 161, 12128709: 162, 12018603: 163, 12142420: 164, 12127084: 165, 12135136: 166, 12124840: 167, 12136711: 168, 1203606: 169, 12140626: 170, 12013984: 171, 12018836: 172, 12131818: 173, 12134324: 174, 12138896: 175, 12018814: 176, 1203159: 177, 12021430: 178, 12133868: 179, 12134418: 180, 12134327: 181, 12020809: 182, 12124084: 183, 12140425: 184, 12135384: 185, 12021320: 186, 12021318: 187, 12127246: 188, 12013943: 189, 12141182: 190, 12134231: 191, 12014382: 192, 12136533: 193, 12144688: 194, 12146671: 195, 12146666: 196, 1202485: 197, 12136296: 198, 1203873: 199, 12146655: 200, 12122776: 201, 12021297: 202, 12126993: 203, 12123826: 204, 121213223: 205, 121129790: 206, 121129379: 207, 12014013: 208, 12020779: 209, 12015366: 210, 1202495: 211, 1202490: 212, 12021346: 213, 12018460: 214, 12133238: 215, 12015301: 216, 1202993: 217, 12154684: 218, 12018837: 219, 12018830: 220, 12143942: 221, 12014918: 222, 121129418: 223, 12146037: 224, 12123022: 225, 121128105: 226, 12020678: 227, 12020671: 228, 12146653: 229, 12014140: 230, 1203228: 231, 12014719: 232, 12020822: 233, 12154292: 234, 12138754: 235, 12146105: 236, 121129378: 237, 12134201: 238, 12151011: 239, 12134098: 240, 121129373: 241, 12021312: 242, 12124304: 243, 12133704: 244, 12020837: 245, 12021507: 246, 12128912: 247, 12017351: 248, 12014920: 249, 12142315: 250, 12139200: 251, 12018907: 252, 12125421: 253, 12146669: 254, 12139197: 255, 12019299: 256, 12015749: 257, 12126172: 258, 12136674: 259, 12136529: 260, 12019241: 261, 12146416: 262, 12143448: 263, 12019870: 264, 12137480: 265, 12133750: 266, 12143471: 267, 12133905: 268, 12021103: 269, 12020836: 270, 12015767: 271, 12018537: 272, 12017069: 273, 12127198: 274, 12018596: 275, 121129089: 276, 12021510: 277, 12125495: 278, 12143390: 279, 121213083: 280, 12020775: 281, 12126951: 282, 12126861: 283, 12144786: 284, 12015071: 285, 1203876: 286, 12141520: 287, 12123874: 288, 12014784: 289, 12021532: 290, 12021204: 291, 121138042: 292, 12131868: 293, 12146424: 294, 12014711: 295, 12014059: 296, 12134460: 297, 12014383: 298, 12142707: 299, 12014811: 300, 12020774: 301, 12146240: 302, 12129333: 303, 12017053: 304, 121140755: 305, 12015786: 306, 12018678: 307, 12021100: 308, 12018811: 309, 12020983: 310, 121129780: 311, 12015643: 312, 12134417: 313, 12135913: 314, 121129381: 315, 12152565: 316, 121127815: 317, 12156379: 318, 121128166: 319, 12019195: 320, 12019534: 321, 12145886: 322, 121141588: 323, 121138588: 324, 121138587: 325, 12154222: 326, 12020638: 327, 12128839: 328, 12015120: 329, 12146096: 330, 12020629: 331, 12015250: 332, 12142409: 333, 12136629: 334, 12020899: 335, 1203981: 336, 12123324: 337, 12014308: 338, 12457854: 339, 12127148: 340, 12149414: 341, 121129434: 342, 1202488: 343, 12018838: 344, 12018098: 345, 121172077: 346, 12014345: 347, 12019558: 348, 12015268: 349, 12147635: 350, 12015158: 351, 121128103: 352, 12122749: 353, 121129087: 354, 121131581: 355, 12133911: 356, 12021352: 357, 12015132: 358, 12015641: 359, 12125840: 360, 1203712: 361, 121140754: 362, 12141847: 363, 12020529: 364, 12015284: 365, 121129423: 366, 12015570: 367, 121180339: 368, 1202433: 369, 12127971: 370, 12146423: 371, 121129374: 372, 12146072: 373, 12139840: 374, 121128167: 375, 12134842: 376, 12014287: 377, 1203927: 378, 12134492: 379, 12014316: 380, 12124971: 381, 1203308: 382, 12154223: 383, 12015445: 384, 121129377: 385, 12131807: 386, 12015579: 387, 12146123: 388, 12018452: 389, 121212194: 390, 12142879: 391, 12018710: 392, 12125172: 393, 12133879: 394, 12139367: 395, 12135649: 396, 12018835: 397, 12020761: 398, 12154453: 399, 12020528: 400, 12014035: 401, 12020897: 402, 12142882: 403, 121129785: 404, 12015019: 405, 121129383: 406, 12134802: 407, 12018660: 408, 12127828: 409, 12138895: 410, 12146425: 411, 12135345: 412, 12014932: 413, 12453497: 414, 12134691: 415, 1202479: 416, 12021079: 417, 12142499: 418, 12133217: 419, 12014957: 420, 12139199: 421, 12146672: 422, 121129384: 423, 12015565: 424, 12139780: 425, 12141557: 426, 12141461: 427, 121201882: 428, 121131361: 429, 12127244: 430, 12147939: 431, 12136910: 432, 12015777: 433, 12019189: 434, 12139630: 435, 12020626: 436, 12021335: 437, 12019190: 438, 12125146: 439, 12019630: 440, 12136298: 441, 121173962: 442, 12015136: 443, 12135601: 444, 12146064: 445, 12142877: 446, 12014208: 447, 121212304: 448, 12020667: 449, 12125819: 450, 12021198: 451, 12139273: 452, 121210971: 453, 12153545: 454, 1202473: 455, 12020756: 456, 12134271: 457, 12122146: 458, 12135634: 459, 121128347: 460, 121140924: 461, 121130475: 462, 12125905: 463, 12134481: 464, 12134290: 465, 121138043: 466, 121129793: 467, 12018713: 468, 121128543: 469, 12127043: 470, 12154764: 471, 12127245: 472, 12019877: 473, 12137465: 474, 12018333: 475, 12020606: 476, 12132234: 477, 12020862: 478, 1202270: 479, 121139420: 480, 12015762: 481, 1203305: 482, 12146657: 483, 12134870: 484, 121129380: 485, 121129424: 486, 12134473: 487, 12123553: 488, 12020770: 489, 1202376: 490, 12015119: 491, 121136373: 492, 12015387: 493, 12453500: 494, 12141274: 495, 12139201: 496, 12020755: 497, 12152829: 498, 121128104: 499, 12122603: 500, 12019593: 501, 12145431: 502, 12021525: 503, 12134346: 504, 12018711: 505, 12139766: 506, 12121941: 507, 12021171: 508, 12125511: 509, 12457160: 510, 12017031: 511, 12019196: 512, 12020620: 513, 121129430: 514, 12018886: 515, 12020908: 516, 12018693: 517, 12020650: 518, 12018795: 519, 12144763: 520, 12134292: 521, 12014427: 522, 12021339: 523, 12122745: 524, 12135646: 525, 12135712: 526, 12015594: 527, 12020630: 528, 12015644: 529, 12014687: 530, 12014192: 531, 12016007: 532, 12149367: 533, 12017030: 534, 12125815: 535, 12014887: 536, 12020953: 537, 12142881: 538, 121128168: 539, 1203115: 540, 12146652: 541, 12146651: 542, 12020826: 543, 12155797: 544, 12145994: 545, 12136139: 546, 12125693: 547, 1202494: 548, 12139805: 549, 12124246: 550, 12134429: 551, 12021362: 552, 121140644: 553, 12142369: 554, 121212195: 555, 12141410: 556, 12014718: 557, 12139203: 558, 12018768: 559, 12020618: 560, 12122156: 561, 12019183: 562, 12142029: 563, 121129795: 564, 12014210: 565, 12014720: 566, 12151981: 567, 1202992: 568, 121129417: 569, 12144206: 570, 12014230: 571, 12138749: 572, 12140385: 573, 12021115: 574, 12140218: 575, 12132267: 576, 12020741: 577, 121140181: 578, 12020907: 579, 12140476: 580, 12138898: 581, 12021080: 582, 12135782: 583, 12128719: 584, 12146670: 585, 12014254: 586, 12154420: 587, 12134090: 588, 12015778: 589, 121129433: 590, 12132991: 591, 12154461: 592, 12147427: 593, 12019108: 594, 121140635: 595, 12014824: 596, 121140324: 597, 12019254: 598, 12132199: 599, 121136375: 600, 121136374: 601, 12021387: 602, 12129354: 603, 12146095: 604, 12021076: 605, 12015161: 606, 12019857: 607, 12141791: 608, 12015590: 609, 12145552: 610, 12018639: 611, 12019955: 612, 12020543: 613, 12142370: 614, 12020554: 615, 12014823: 616, 12144539: 617, 12015560: 618, 12126128: 619, 1203316: 620, 12020665: 621, 12126785: 622, 12021487: 623, 12136375: 624, 12146656: 625, 12015311: 626, 12013998: 627, 12128792: 628, 12021158: 629, 12020656: 630, 12019692: 631, 12021188: 632, 121140759: 633, 12019255: 634, 12014099: 635, 12020611: 636, 121131360: 637, 12014360: 638, 12144995: 639, 12146654: 640, 12144308: 641, 12122764: 642, 12147009: 643, 12134176: 644, 121213075: 645, 12123871: 646, 12018666: 647, 12014118: 648, 12136757: 649, 12019259: 650, 12139078: 651, 12020542: 652, 12015614: 653, 12015891: 654, 12021156: 655, 1204095: 656, 12021154: 657, 12145885: 658, 12021454: 659, 12142503: 660, 121173963: 661, 12019027: 662, 12133042: 663, 12015638: 664, 12141608: 665, 12140386: 666, 12146104: 667, 12021298: 668, 12142916: 669, 12021160: 670, 121213224: 671, 121126728: 672, 12138862: 673, 12124504: 674, 12018449: 675, 12018864: 676, 12132215: 677, 12013956: 678, 121213231: 679, 12021264: 680, 12123020: 681, 12146048: 682, 12018691: 683, 12021155: 684, 12139776: 685, 12133687: 686, 12018891: 687, 12453530: 688, 12015111: 689, 12021290: 690, 12020657: 691, 12019015: 692, 121136376: 693, 12021417: 694, 12133653: 695, 12127977: 696, 12134685: 697, 12139227: 698, 12015306: 699, 12015440: 700, 121126246: 701, 12020627: 702, 12146160: 703, 12124447: 704, 12015426: 705, 12127243: 706, 12133749: 707, 121126714: 708, 12018171: 709, 12125850: 710, 12019017: 711, 12021288: 712, 12141756: 713, 12451173: 714, 12014424: 715, 12015080: 716, 12015347: 717, 121205116: 718, 121205117: 719, 1204064: 720, 12134080: 721, 121205118: 722, 12123593: 723, 12451174: 724, 12139371: 725, 12125631: 726, 12144433: 727, 12019885: 728, 12140559: 729, 12125610: 730, 12138873: 731, 121207550: 732, 121205146: 733, 121207534: 734, 121207535: 735, 12143386: 736, 121208687: 737, 121208686: 738, 121207359: 739, 12019795: 740, 121207536: 741, 121206184: 742, 121206183: 743, 12139732: 744, 121208688: 745, 121205181: 746, 12131808: 747, 12455483: 748, 12141186: 749, 12142921: 750, 12455482: 751, 121127780: 752, 12455103: 753, 12147300: 754, 12140197: 755}\n"
     ]
    }
   ],
   "source": [
    "get_embeddings(diagnoses)"
   ]
  },
  {
   "cell_type": "code",
   "execution_count": 4,
   "metadata": {},
   "outputs": [],
   "source": []
  },
  {
   "cell_type": "code",
   "execution_count": 65,
   "metadata": {
    "scrolled": true
   },
   "outputs": [
    {
     "data": {
      "text/html": [
       "<div>\n",
       "<style scoped>\n",
       "    .dataframe tbody tr th:only-of-type {\n",
       "        vertical-align: middle;\n",
       "    }\n",
       "\n",
       "    .dataframe tbody tr th {\n",
       "        vertical-align: top;\n",
       "    }\n",
       "\n",
       "    .dataframe thead th {\n",
       "        text-align: right;\n",
       "    }\n",
       "</style>\n",
       "<table border=\"1\" class=\"dataframe\">\n",
       "  <thead>\n",
       "    <tr style=\"text-align: right;\">\n",
       "      <th></th>\n",
       "      <th>P_ID</th>\n",
       "      <th>DX_ID</th>\n",
       "      <th>DX_DATE</th>\n",
       "      <th>DX_NAME</th>\n",
       "      <th>CURRENT_ICD9_LIST</th>\n",
       "      <th>CURRENT_ICD10_LIST</th>\n",
       "      <th>DX_GROUP</th>\n",
       "    </tr>\n",
       "  </thead>\n",
       "  <tbody>\n",
       "    <tr>\n",
       "      <th>1</th>\n",
       "      <td>15</td>\n",
       "      <td>12122523</td>\n",
       "      <td>30413</td>\n",
       "      <td>ATYPICAL CHEST PAIN</td>\n",
       "      <td>786.59</td>\n",
       "      <td>R07.89</td>\n",
       "      <td>SYMPTOMS, SIGNS, AND ILL-DEFINED CONDITIONS</td>\n",
       "    </tr>\n",
       "    <tr>\n",
       "      <th>3</th>\n",
       "      <td>15</td>\n",
       "      <td>12015529</td>\n",
       "      <td>30413</td>\n",
       "      <td>ESSENTIAL HTN</td>\n",
       "      <td>401.9</td>\n",
       "      <td>I10</td>\n",
       "      <td>CIRCULATORY SYSTEM</td>\n",
       "    </tr>\n",
       "    <tr>\n",
       "      <th>5</th>\n",
       "      <td>15</td>\n",
       "      <td>12125461</td>\n",
       "      <td>30439</td>\n",
       "      <td>SUPRAVENTRICULAR TACHYCARDIA, PAROXYSMAL</td>\n",
       "      <td>427.0</td>\n",
       "      <td>I47.1</td>\n",
       "      <td>CIRCULATORY SYSTEM</td>\n",
       "    </tr>\n",
       "    <tr>\n",
       "      <th>6</th>\n",
       "      <td>15</td>\n",
       "      <td>12125461</td>\n",
       "      <td>30439</td>\n",
       "      <td>SUPRAVENTRICULAR TACHYCARDIA, PAROXYSMAL</td>\n",
       "      <td>427.0</td>\n",
       "      <td>I47.1</td>\n",
       "      <td>CIRCULATORY SYSTEM</td>\n",
       "    </tr>\n",
       "    <tr>\n",
       "      <th>7</th>\n",
       "      <td>15</td>\n",
       "      <td>12015529</td>\n",
       "      <td>30439</td>\n",
       "      <td>ESSENTIAL HTN</td>\n",
       "      <td>401.9</td>\n",
       "      <td>I10</td>\n",
       "      <td>CIRCULATORY SYSTEM</td>\n",
       "    </tr>\n",
       "  </tbody>\n",
       "</table>\n",
       "</div>"
      ],
      "text/plain": [
       "   P_ID     DX_ID  DX_DATE                                   DX_NAME  \\\n",
       "1    15  12122523    30413                       ATYPICAL CHEST PAIN   \n",
       "3    15  12015529    30413                             ESSENTIAL HTN   \n",
       "5    15  12125461    30439  SUPRAVENTRICULAR TACHYCARDIA, PAROXYSMAL   \n",
       "6    15  12125461    30439  SUPRAVENTRICULAR TACHYCARDIA, PAROXYSMAL   \n",
       "7    15  12015529    30439                             ESSENTIAL HTN   \n",
       "\n",
       "  CURRENT_ICD9_LIST CURRENT_ICD10_LIST  \\\n",
       "1            786.59             R07.89   \n",
       "3             401.9                I10   \n",
       "5             427.0              I47.1   \n",
       "6             427.0              I47.1   \n",
       "7             401.9                I10   \n",
       "\n",
       "                                      DX_GROUP  \n",
       "1  SYMPTOMS, SIGNS, AND ILL-DEFINED CONDITIONS  \n",
       "3                           CIRCULATORY SYSTEM  \n",
       "5                           CIRCULATORY SYSTEM  \n",
       "6                           CIRCULATORY SYSTEM  \n",
       "7                           CIRCULATORY SYSTEM  "
      ]
     },
     "execution_count": 65,
     "metadata": {},
     "output_type": "execute_result"
    }
   ],
   "source": [
    "diagnoses.head()"
   ]
  },
  {
   "cell_type": "code",
   "execution_count": 6,
   "metadata": {},
   "outputs": [],
   "source": [
    "from collections import OrderedDict"
   ]
  },
  {
   "cell_type": "code",
   "execution_count": 7,
   "metadata": {},
   "outputs": [
    {
     "data": {
      "text/plain": [
       "0    12453646\n",
       "1    12122523\n",
       "2    12021313\n",
       "3    12015529\n",
       "4    12143339\n",
       "Name: DX_ID, dtype: int64"
      ]
     },
     "execution_count": 7,
     "metadata": {},
     "output_type": "execute_result"
    }
   ],
   "source": [
    "diagnoses.DX_ID.head()"
   ]
  },
  {
   "cell_type": "code",
   "execution_count": 32,
   "metadata": {},
   "outputs": [],
   "source": [
    "count = diagnoses.DX_ID.value_counts()\n",
    "count[count > 500]\n",
    "\n",
    "diagnoses = diagnoses[diagnoses.DX_ID.isin(count[count > 500].index)]"
   ]
  },
  {
   "cell_type": "code",
   "execution_count": 33,
   "metadata": {
    "scrolled": true
   },
   "outputs": [],
   "source": [
    "y = pd.DataFrame(diagnoses.sort_values('DX_DATE').groupby(['P_ID'])['DX_ID'].apply(list))"
   ]
  },
  {
   "cell_type": "code",
   "execution_count": 35,
   "metadata": {},
   "outputs": [],
   "source": [
    "y = y.apply(lambda x: list(OrderedDict.fromkeys(x['DX_ID'])), axis=1)"
   ]
  },
  {
   "cell_type": "code",
   "execution_count": 37,
   "metadata": {},
   "outputs": [],
   "source": [
    "y = pd.DataFrame(y)\n",
    "y.rename(columns={y.columns[0]: \"DX_ID\" }, inplace = True)"
   ]
  },
  {
   "cell_type": "code",
   "execution_count": 38,
   "metadata": {},
   "outputs": [],
   "source": [
    "dic = dict.fromkeys(diagnoses['DX_ID'], 0)"
   ]
  },
  {
   "cell_type": "code",
   "execution_count": 39,
   "metadata": {},
   "outputs": [],
   "source": [
    "j = 0\n",
    "for i in dic:\n",
    "    dic[i] = j\n",
    "    j += 1"
   ]
  },
  {
   "cell_type": "code",
   "execution_count": 40,
   "metadata": {
    "scrolled": true
   },
   "outputs": [],
   "source": [
    "from itertools import combinations"
   ]
  },
  {
   "cell_type": "code",
   "execution_count": 41,
   "metadata": {},
   "outputs": [],
   "source": [
    "def getPairs(x):\n",
    "    return list(combinations([dic[a] for a in x['DX_ID']], 2))"
   ]
  },
  {
   "cell_type": "code",
   "execution_count": 148,
   "metadata": {},
   "outputs": [],
   "source": [
    "sub = y.loc[:100]"
   ]
  },
  {
   "cell_type": "code",
   "execution_count": 150,
   "metadata": {
    "scrolled": false
   },
   "outputs": [
    {
     "name": "stderr",
     "output_type": "stream",
     "text": [
      "C:\\ProgramData\\Anaconda3\\lib\\site-packages\\ipykernel_launcher.py:1: SettingWithCopyWarning: \n",
      "A value is trying to be set on a copy of a slice from a DataFrame.\n",
      "Try using .loc[row_indexer,col_indexer] = value instead\n",
      "\n",
      "See the caveats in the documentation: http://pandas.pydata.org/pandas-docs/stable/indexing.html#indexing-view-versus-copy\n",
      "  \"\"\"Entry point for launching an IPython kernel.\n"
     ]
    }
   ],
   "source": [
    "sub['pairs'] = sub.apply(getPairs, axis=1)"
   ]
  },
  {
   "cell_type": "code",
   "execution_count": 42,
   "metadata": {},
   "outputs": [],
   "source": [
    "y['PAIRS'] = y.apply(getPairs, axis=1)"
   ]
  },
  {
   "cell_type": "code",
   "execution_count": 44,
   "metadata": {
    "scrolled": true
   },
   "outputs": [
    {
     "data": {
      "text/html": [
       "<div>\n",
       "<style scoped>\n",
       "    .dataframe tbody tr th:only-of-type {\n",
       "        vertical-align: middle;\n",
       "    }\n",
       "\n",
       "    .dataframe tbody tr th {\n",
       "        vertical-align: top;\n",
       "    }\n",
       "\n",
       "    .dataframe thead th {\n",
       "        text-align: right;\n",
       "    }\n",
       "</style>\n",
       "<table border=\"1\" class=\"dataframe\">\n",
       "  <thead>\n",
       "    <tr style=\"text-align: right;\">\n",
       "      <th></th>\n",
       "      <th>DX_ID</th>\n",
       "      <th>PAIRS</th>\n",
       "    </tr>\n",
       "    <tr>\n",
       "      <th>P_ID</th>\n",
       "      <th></th>\n",
       "      <th></th>\n",
       "    </tr>\n",
       "  </thead>\n",
       "  <tbody>\n",
       "    <tr>\n",
       "      <th>15</th>\n",
       "      <td>[12122523, 12015529, 12014097, 12125461, 12013...</td>\n",
       "      <td>[(0, 1), (0, 3), (0, 2), (0, 4), (0, 5), (0, 6...</td>\n",
       "    </tr>\n",
       "    <tr>\n",
       "      <th>34</th>\n",
       "      <td>[12141609, 12019633, 12019572, 12014948, 12019...</td>\n",
       "      <td>[(31, 32), (31, 15), (31, 33), (31, 34), (31, ...</td>\n",
       "    </tr>\n",
       "    <tr>\n",
       "      <th>105</th>\n",
       "      <td>[12135089, 12018614, 12014941, 12134159, 12123...</td>\n",
       "      <td>[(52, 36), (52, 53), (52, 54), (52, 55), (52, ...</td>\n",
       "    </tr>\n",
       "    <tr>\n",
       "      <th>227</th>\n",
       "      <td>[12124478, 121129783, 12139368, 12134697, 1202...</td>\n",
       "      <td>[(68, 82), (68, 81), (68, 11), (68, 16), (68, ...</td>\n",
       "    </tr>\n",
       "    <tr>\n",
       "      <th>246</th>\n",
       "      <td>[12015145, 12153114, 12152973, 12018250, 12112...</td>\n",
       "      <td>[(83, 8), (83, 87), (83, 7), (83, 88), (83, 84...</td>\n",
       "    </tr>\n",
       "  </tbody>\n",
       "</table>\n",
       "</div>"
      ],
      "text/plain": [
       "                                                  DX_ID  \\\n",
       "P_ID                                                      \n",
       "15    [12122523, 12015529, 12014097, 12125461, 12013...   \n",
       "34    [12141609, 12019633, 12019572, 12014948, 12019...   \n",
       "105   [12135089, 12018614, 12014941, 12134159, 12123...   \n",
       "227   [12124478, 121129783, 12139368, 12134697, 1202...   \n",
       "246   [12015145, 12153114, 12152973, 12018250, 12112...   \n",
       "\n",
       "                                                  PAIRS  \n",
       "P_ID                                                     \n",
       "15    [(0, 1), (0, 3), (0, 2), (0, 4), (0, 5), (0, 6...  \n",
       "34    [(31, 32), (31, 15), (31, 33), (31, 34), (31, ...  \n",
       "105   [(52, 36), (52, 53), (52, 54), (52, 55), (52, ...  \n",
       "227   [(68, 82), (68, 81), (68, 11), (68, 16), (68, ...  \n",
       "246   [(83, 8), (83, 87), (83, 7), (83, 88), (83, 84...  "
      ]
     },
     "execution_count": 44,
     "metadata": {},
     "output_type": "execute_result"
    }
   ],
   "source": [
    "y.head()"
   ]
  },
  {
   "cell_type": "code",
   "execution_count": 45,
   "metadata": {
    "scrolled": true
   },
   "outputs": [],
   "source": [
    "y = y.reset_index()"
   ]
  },
  {
   "cell_type": "code",
   "execution_count": 46,
   "metadata": {},
   "outputs": [
    {
     "data": {
      "text/plain": [
       "84053"
      ]
     },
     "execution_count": 46,
     "metadata": {},
     "output_type": "execute_result"
    }
   ],
   "source": [
    "y.P_ID.nunique()"
   ]
  },
  {
   "cell_type": "code",
   "execution_count": 47,
   "metadata": {},
   "outputs": [],
   "source": [
    "flat_list = [item for sublist in y.PAIRS.tolist() for item in sublist]"
   ]
  },
  {
   "cell_type": "code",
   "execution_count": 48,
   "metadata": {
    "scrolled": true
   },
   "outputs": [],
   "source": [
    "import keras.backend as K\n",
    "from keras.utils import to_categorical\n"
   ]
  },
  {
   "cell_type": "code",
   "execution_count": 49,
   "metadata": {},
   "outputs": [],
   "source": [
    "x,y = zip(*flat_list)"
   ]
  },
  {
   "cell_type": "code",
   "execution_count": 50,
   "metadata": {},
   "outputs": [
    {
     "data": {
      "text/plain": [
       "6929731"
      ]
     },
     "execution_count": 50,
     "metadata": {},
     "output_type": "execute_result"
    }
   ],
   "source": [
    "len(x)"
   ]
  },
  {
   "cell_type": "code",
   "execution_count": 51,
   "metadata": {},
   "outputs": [],
   "source": [
    "hot_x = to_categorical(x)\n",
    "hot_y = to_categorical(y)"
   ]
  },
  {
   "cell_type": "code",
   "execution_count": 56,
   "metadata": {},
   "outputs": [],
   "source": [
    "# a=dx_data.CURRENT_ICD10_LIST.dropna().apply(lambda x:x.split(','))\n",
    "# dex = 0\n",
    "# b = []\n",
    "# for dx in a:\n",
    "#     b.append(pd.DataFrame({'P_ID':dx_data.loc[0].P_ID,'DX_DATE':dx_data.loc[0].DX_DATE,'ICD_10':dx}))\n",
    "#     dex +=1\n",
    "#     if dex%1000 ==0:\n",
    "#         print(dex)\n",
    "np.save('x_data_hot', hot_x)\n",
    "np.save('y_data_hot', hot_y)\n"
   ]
  },
  {
   "cell_type": "code",
   "execution_count": 54,
   "metadata": {},
   "outputs": [
    {
     "name": "stdout",
     "output_type": "stream",
     "text": [
      "_________________________________________________________________\n",
      "Layer (type)                 Output Shape              Param #   \n",
      "=================================================================\n",
      "input_1 (InputLayer)         (None, 756)               0         \n",
      "_________________________________________________________________\n",
      "dense_1 (Dense)              (None, 280)               211960    \n",
      "_________________________________________________________________\n",
      "dense_2 (Dense)              (None, 36)                10116     \n",
      "_________________________________________________________________\n",
      "dense_3 (Dense)              (None, 756)               27972     \n",
      "=================================================================\n",
      "Total params: 250,048\n",
      "Trainable params: 250,048\n",
      "Non-trainable params: 0\n",
      "_________________________________________________________________\n"
     ]
    }
   ],
   "source": [
    "import tensorflow as tf\n",
    "from tensorflow import keras\n",
    "from tensorflow.python.keras.callbacks import TensorBoard\n",
    "from keras.layers import Input, Dense, LSTM, Dropout\n",
    "from keras.models import Model\n",
    "\n",
    "\n",
    "input_dat = Input(shape=(756,))\n",
    "encoded = Dense(280, activation='relu')(input_dat)\n",
    "encoded = Dense(36)(encoded)\n",
    "decoded = Dense(756, activation='softmax')(encoded)\n",
    "embeddings = Model(input_dat, decoded)\n",
    "\n",
    "encoder = Model(input_dat, encoded)\n",
    "\n",
    "\n",
    "embeddings.compile(optimizer='adam', loss='categorical_crossentropy')\n",
    "embeddings.summary()"
   ]
  },
  {
   "cell_type": "code",
   "execution_count": 55,
   "metadata": {},
   "outputs": [
    {
     "name": "stdout",
     "output_type": "stream",
     "text": [
      "Train on 6929731 samples, validate on 6929731 samples\n",
      "Epoch 1/50\n",
      "  32256/6929731 [..............................] - ETA: 6:16:10 - loss: 6.3520"
     ]
    },
    {
     "ename": "KeyboardInterrupt",
     "evalue": "",
     "output_type": "error",
     "traceback": [
      "\u001b[1;31m---------------------------------------------------------------------------\u001b[0m",
      "\u001b[1;31mKeyboardInterrupt\u001b[0m                         Traceback (most recent call last)",
      "\u001b[1;32m<ipython-input-55-4ba501b69f88>\u001b[0m in \u001b[0;36m<module>\u001b[1;34m\u001b[0m\n\u001b[0;32m      3\u001b[0m                 \u001b[0mbatch_size\u001b[0m\u001b[1;33m=\u001b[0m\u001b[1;36m512\u001b[0m\u001b[1;33m,\u001b[0m\u001b[1;33m\u001b[0m\u001b[1;33m\u001b[0m\u001b[0m\n\u001b[0;32m      4\u001b[0m                 \u001b[0mshuffle\u001b[0m\u001b[1;33m=\u001b[0m\u001b[1;32mTrue\u001b[0m\u001b[1;33m,\u001b[0m\u001b[1;33m\u001b[0m\u001b[1;33m\u001b[0m\u001b[0m\n\u001b[1;32m----> 5\u001b[1;33m                 validation_data=(hot_x, hot_y))\n\u001b[0m",
      "\u001b[1;32mC:\\ProgramData\\Anaconda3\\lib\\site-packages\\keras\\engine\\training.py\u001b[0m in \u001b[0;36mfit\u001b[1;34m(self, x, y, batch_size, epochs, verbose, callbacks, validation_split, validation_data, shuffle, class_weight, sample_weight, initial_epoch, steps_per_epoch, validation_steps, **kwargs)\u001b[0m\n\u001b[0;32m   1037\u001b[0m                                         \u001b[0minitial_epoch\u001b[0m\u001b[1;33m=\u001b[0m\u001b[0minitial_epoch\u001b[0m\u001b[1;33m,\u001b[0m\u001b[1;33m\u001b[0m\u001b[1;33m\u001b[0m\u001b[0m\n\u001b[0;32m   1038\u001b[0m                                         \u001b[0msteps_per_epoch\u001b[0m\u001b[1;33m=\u001b[0m\u001b[0msteps_per_epoch\u001b[0m\u001b[1;33m,\u001b[0m\u001b[1;33m\u001b[0m\u001b[1;33m\u001b[0m\u001b[0m\n\u001b[1;32m-> 1039\u001b[1;33m                                         validation_steps=validation_steps)\n\u001b[0m\u001b[0;32m   1040\u001b[0m \u001b[1;33m\u001b[0m\u001b[0m\n\u001b[0;32m   1041\u001b[0m     def evaluate(self, x=None, y=None,\n",
      "\u001b[1;32mC:\\ProgramData\\Anaconda3\\lib\\site-packages\\keras\\engine\\training_arrays.py\u001b[0m in \u001b[0;36mfit_loop\u001b[1;34m(model, f, ins, out_labels, batch_size, epochs, verbose, callbacks, val_f, val_ins, shuffle, callback_metrics, initial_epoch, steps_per_epoch, validation_steps)\u001b[0m\n\u001b[0;32m    185\u001b[0m                             ins[:-1], batch_ids) + [ins[-1]]\n\u001b[0;32m    186\u001b[0m                     \u001b[1;32melse\u001b[0m\u001b[1;33m:\u001b[0m\u001b[1;33m\u001b[0m\u001b[1;33m\u001b[0m\u001b[0m\n\u001b[1;32m--> 187\u001b[1;33m                         \u001b[0mins_batch\u001b[0m \u001b[1;33m=\u001b[0m \u001b[0mslice_arrays\u001b[0m\u001b[1;33m(\u001b[0m\u001b[0mins\u001b[0m\u001b[1;33m,\u001b[0m \u001b[0mbatch_ids\u001b[0m\u001b[1;33m)\u001b[0m\u001b[1;33m\u001b[0m\u001b[1;33m\u001b[0m\u001b[0m\n\u001b[0m\u001b[0;32m    188\u001b[0m                 \u001b[1;32mexcept\u001b[0m \u001b[0mTypeError\u001b[0m\u001b[1;33m:\u001b[0m\u001b[1;33m\u001b[0m\u001b[1;33m\u001b[0m\u001b[0m\n\u001b[0;32m    189\u001b[0m                     raise TypeError('TypeError while preparing batch. '\n",
      "\u001b[1;32mC:\\ProgramData\\Anaconda3\\lib\\site-packages\\keras\\utils\\generic_utils.py\u001b[0m in \u001b[0;36mslice_arrays\u001b[1;34m(arrays, start, stop)\u001b[0m\n\u001b[0;32m    524\u001b[0m             \u001b[1;32mif\u001b[0m \u001b[0mhasattr\u001b[0m\u001b[1;33m(\u001b[0m\u001b[0mstart\u001b[0m\u001b[1;33m,\u001b[0m \u001b[1;34m'shape'\u001b[0m\u001b[1;33m)\u001b[0m\u001b[1;33m:\u001b[0m\u001b[1;33m\u001b[0m\u001b[1;33m\u001b[0m\u001b[0m\n\u001b[0;32m    525\u001b[0m                 \u001b[0mstart\u001b[0m \u001b[1;33m=\u001b[0m \u001b[0mstart\u001b[0m\u001b[1;33m.\u001b[0m\u001b[0mtolist\u001b[0m\u001b[1;33m(\u001b[0m\u001b[1;33m)\u001b[0m\u001b[1;33m\u001b[0m\u001b[1;33m\u001b[0m\u001b[0m\n\u001b[1;32m--> 526\u001b[1;33m             \u001b[1;32mreturn\u001b[0m \u001b[1;33m[\u001b[0m\u001b[1;32mNone\u001b[0m \u001b[1;32mif\u001b[0m \u001b[0mx\u001b[0m \u001b[1;32mis\u001b[0m \u001b[1;32mNone\u001b[0m \u001b[1;32melse\u001b[0m \u001b[0mx\u001b[0m\u001b[1;33m[\u001b[0m\u001b[0mstart\u001b[0m\u001b[1;33m]\u001b[0m \u001b[1;32mfor\u001b[0m \u001b[0mx\u001b[0m \u001b[1;32min\u001b[0m \u001b[0marrays\u001b[0m\u001b[1;33m]\u001b[0m\u001b[1;33m\u001b[0m\u001b[1;33m\u001b[0m\u001b[0m\n\u001b[0m\u001b[0;32m    527\u001b[0m         \u001b[1;32melse\u001b[0m\u001b[1;33m:\u001b[0m\u001b[1;33m\u001b[0m\u001b[1;33m\u001b[0m\u001b[0m\n\u001b[0;32m    528\u001b[0m             \u001b[1;32mreturn\u001b[0m \u001b[1;33m[\u001b[0m\u001b[1;32mNone\u001b[0m \u001b[1;32mif\u001b[0m \u001b[0mx\u001b[0m \u001b[1;32mis\u001b[0m \u001b[1;32mNone\u001b[0m \u001b[1;32melse\u001b[0m \u001b[0mx\u001b[0m\u001b[1;33m[\u001b[0m\u001b[0mstart\u001b[0m\u001b[1;33m:\u001b[0m\u001b[0mstop\u001b[0m\u001b[1;33m]\u001b[0m \u001b[1;32mfor\u001b[0m \u001b[0mx\u001b[0m \u001b[1;32min\u001b[0m \u001b[0marrays\u001b[0m\u001b[1;33m]\u001b[0m\u001b[1;33m\u001b[0m\u001b[1;33m\u001b[0m\u001b[0m\n",
      "\u001b[1;32mC:\\ProgramData\\Anaconda3\\lib\\site-packages\\keras\\utils\\generic_utils.py\u001b[0m in \u001b[0;36m<listcomp>\u001b[1;34m(.0)\u001b[0m\n\u001b[0;32m    524\u001b[0m             \u001b[1;32mif\u001b[0m \u001b[0mhasattr\u001b[0m\u001b[1;33m(\u001b[0m\u001b[0mstart\u001b[0m\u001b[1;33m,\u001b[0m \u001b[1;34m'shape'\u001b[0m\u001b[1;33m)\u001b[0m\u001b[1;33m:\u001b[0m\u001b[1;33m\u001b[0m\u001b[1;33m\u001b[0m\u001b[0m\n\u001b[0;32m    525\u001b[0m                 \u001b[0mstart\u001b[0m \u001b[1;33m=\u001b[0m \u001b[0mstart\u001b[0m\u001b[1;33m.\u001b[0m\u001b[0mtolist\u001b[0m\u001b[1;33m(\u001b[0m\u001b[1;33m)\u001b[0m\u001b[1;33m\u001b[0m\u001b[1;33m\u001b[0m\u001b[0m\n\u001b[1;32m--> 526\u001b[1;33m             \u001b[1;32mreturn\u001b[0m \u001b[1;33m[\u001b[0m\u001b[1;32mNone\u001b[0m \u001b[1;32mif\u001b[0m \u001b[0mx\u001b[0m \u001b[1;32mis\u001b[0m \u001b[1;32mNone\u001b[0m \u001b[1;32melse\u001b[0m \u001b[0mx\u001b[0m\u001b[1;33m[\u001b[0m\u001b[0mstart\u001b[0m\u001b[1;33m]\u001b[0m \u001b[1;32mfor\u001b[0m \u001b[0mx\u001b[0m \u001b[1;32min\u001b[0m \u001b[0marrays\u001b[0m\u001b[1;33m]\u001b[0m\u001b[1;33m\u001b[0m\u001b[1;33m\u001b[0m\u001b[0m\n\u001b[0m\u001b[0;32m    527\u001b[0m         \u001b[1;32melse\u001b[0m\u001b[1;33m:\u001b[0m\u001b[1;33m\u001b[0m\u001b[1;33m\u001b[0m\u001b[0m\n\u001b[0;32m    528\u001b[0m             \u001b[1;32mreturn\u001b[0m \u001b[1;33m[\u001b[0m\u001b[1;32mNone\u001b[0m \u001b[1;32mif\u001b[0m \u001b[0mx\u001b[0m \u001b[1;32mis\u001b[0m \u001b[1;32mNone\u001b[0m \u001b[1;32melse\u001b[0m \u001b[0mx\u001b[0m\u001b[1;33m[\u001b[0m\u001b[0mstart\u001b[0m\u001b[1;33m:\u001b[0m\u001b[0mstop\u001b[0m\u001b[1;33m]\u001b[0m \u001b[1;32mfor\u001b[0m \u001b[0mx\u001b[0m \u001b[1;32min\u001b[0m \u001b[0marrays\u001b[0m\u001b[1;33m]\u001b[0m\u001b[1;33m\u001b[0m\u001b[1;33m\u001b[0m\u001b[0m\n",
      "\u001b[1;31mKeyboardInterrupt\u001b[0m: "
     ]
    }
   ],
   "source": [
    "embeddings.fit(hot_x, hot_y,\n",
    "                epochs=50,\n",
    "                batch_size=512,\n",
    "                shuffle=True,\n",
    "                validation_data=(hot_x, hot_y))"
   ]
  },
  {
   "cell_type": "code",
   "execution_count": 455,
   "metadata": {},
   "outputs": [],
   "source": [
    "labels = np.identity(80)\n",
    "encoded = encoder.predict(labels)\n"
   ]
  },
  {
   "cell_type": "code",
   "execution_count": 457,
   "metadata": {},
   "outputs": [],
   "source": [
    "keys = dic.keys()"
   ]
  },
  {
   "cell_type": "code",
   "execution_count": 459,
   "metadata": {},
   "outputs": [
    {
     "data": {
      "text/plain": [
       "(80, 36)"
      ]
     },
     "execution_count": 459,
     "metadata": {},
     "output_type": "execute_result"
    }
   ],
   "source": [
    "encoded.shape"
   ]
  },
  {
   "cell_type": "code",
   "execution_count": 462,
   "metadata": {},
   "outputs": [],
   "source": [
    "keys = list(keys)"
   ]
  },
  {
   "cell_type": "code",
   "execution_count": 463,
   "metadata": {},
   "outputs": [
    {
     "name": "stderr",
     "output_type": "stream",
     "text": [
      "C:\\ProgramData\\Anaconda3\\lib\\site-packages\\ipykernel_launcher.py:2: FutureWarning: The signature of `Series.to_csv` was aligned to that of `DataFrame.to_csv`, and argument 'header' will change its default value from False to True: please pass an explicit value to suppress this warning.\n",
      "  \n"
     ]
    }
   ],
   "source": [
    "np.savetxt(\"embeddings_data.tsv\", encoded, delimiter=\"\\t\")\n",
    "pd.Series(keys).to_csv('labels.tsv', sep='\\t', index=False)"
   ]
  },
  {
   "cell_type": "code",
   "execution_count": null,
   "metadata": {},
   "outputs": [],
   "source": []
  }
 ],
 "metadata": {
  "kernelspec": {
   "display_name": "Python 3",
   "language": "python",
   "name": "python3"
  },
  "language_info": {
   "codemirror_mode": {
    "name": "ipython",
    "version": 3
   },
   "file_extension": ".py",
   "mimetype": "text/x-python",
   "name": "python",
   "nbconvert_exporter": "python",
   "pygments_lexer": "ipython3",
   "version": "3.6.8"
  }
 },
 "nbformat": 4,
 "nbformat_minor": 2
}
